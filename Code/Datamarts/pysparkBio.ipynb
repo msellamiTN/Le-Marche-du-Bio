{
 "cells": [
  {
   "cell_type": "code",
   "execution_count": null,
   "metadata": {},
   "outputs": [],
   "source": [
    "# !pip install pygsheets"
   ]
  },
  {
   "cell_type": "code",
   "execution_count": 1,
   "metadata": {},
   "outputs": [],
   "source": [
    "import pyspark.sql\n",
    "from pyspark.sql import SparkSession\n",
    "from pyspark.sql.functions import *\n",
    "from pyspark.sql.types import *\n",
    "import pygsheets\n",
    "import pandas as pd"
   ]
  },
  {
   "cell_type": "code",
   "execution_count": 2,
   "metadata": {},
   "outputs": [],
   "source": [
    "def google_sheets(file, data):\n",
    "    \"\"\"\n",
    "    Fonction pour l'export vers googlesheets\n",
    "    \"\"\"\n",
    "    #authentification\n",
    "    gc = pygsheets.authorize(service_file= '/home/jovyan/auth/biofitec-445d3a2a47d2_sheets.json')\n",
    "    \n",
    "    # on ouvre de fichier excel\n",
    "    sh = gc.open(file)\n",
    "    \n",
    "    # on selectionne la première feuille\n",
    "    wks = sh[0]\n",
    "    \n",
    "    # on ecrit \n",
    "    wks.set_dataframe(data.toPandas(), (1,1))\n",
    "    "
   ]
  },
  {
   "cell_type": "markdown",
   "metadata": {},
   "source": [
    "### I - Connexion"
   ]
  },
  {
   "cell_type": "code",
   "execution_count": 3,
   "metadata": {},
   "outputs": [],
   "source": [
    "# connexion du driver\n",
    "spark = SparkSession.\\\n",
    "        builder.\\\n",
    "        appName(\"pyspark-notebook2\").\\\n",
    "        master(\"spark://172.17.0.1:8077\").\\\n",
    "        config(\"spark.executor.memory\", \"1g\").\\\n",
    "        config(\"spark.mongodb.input.uri\",\"mongodb://172.17.0.1:28117,172.17.0.1:28118,172.17.0.1:28119/BIO.departements?replicaSet=rs0\").\\\n",
    "        config(\"spark.mongodb.output.uri\",\"mongodb://172.17.0.1:28117,172.17.0.1:28118,172.17.0.1:28119/BIO.departements?replicaSet=rs0\").\\\n",
    "        config(\"spark.jars.packages\", \"org.mongodb.spark:mongo-spark-connector_2.12:3.0.0\").\\\n",
    "        getOrCreate()"
   ]
  },
  {
   "cell_type": "markdown",
   "metadata": {},
   "source": [
    "### II - Récupération des données"
   ]
  },
  {
   "cell_type": "code",
   "execution_count": 4,
   "metadata": {},
   "outputs": [],
   "source": [
    "df = spark.read.format(\"mongo\").load()"
   ]
  },
  {
   "cell_type": "markdown",
   "metadata": {},
   "source": [
    "### III - Magasins Bio"
   ]
  },
  {
   "cell_type": "code",
   "execution_count": 5,
   "metadata": {},
   "outputs": [],
   "source": [
    "df.createOrReplaceTempView(\"mags\")"
   ]
  },
  {
   "cell_type": "code",
   "execution_count": 6,
   "metadata": {},
   "outputs": [],
   "source": [
    "magsDF = spark.sql(\"select departement, size(communes) as communes, magasins.* from mags\")"
   ]
  },
  {
   "cell_type": "code",
   "execution_count": 7,
   "metadata": {},
   "outputs": [],
   "source": [
    "magsDF = magsDF.fillna(0)"
   ]
  },
  {
   "cell_type": "code",
   "execution_count": 8,
   "metadata": {},
   "outputs": [
    {
     "name": "stdout",
     "output_type": "stream",
     "text": [
      "+--------------------+--------+----------+-------+--------+----------+-------------+-------------------+---------+-------+\n",
      "|         departement|communes|BIO C' BON|BIOCOOP|BIOMONDE|L'EAU VIVE|LA VIE CLAIRE|LE GRAND PANIER BIO|NATURALIA|NATUREO|\n",
      "+--------------------+--------+----------+-------+--------+----------+-------------+-------------------+---------+-------+\n",
      "|                 AIN|     410|         0|      3|       0|         0|            4|                  1|        0|      0|\n",
      "|               AISNE|     805|         0|      2|       1|         0|            3|                  0|        0|      0|\n",
      "|              ALLIER|     318|         0|      2|       1|         0|            5|                  0|        0|      0|\n",
      "|ALPES-DE-HAUTE-PR...|     199|         0|      5|       0|         0|            3|                  0|        1|      0|\n",
      "|        HAUTES-ALPES|     168|         0|      8|       1|         1|            1|                  0|        0|      0|\n",
      "|     ALPES-MARITIMES|     163|         3|      8|       0|         0|            9|                  0|       12|      0|\n",
      "|             ARDECHE|     339|         0|      6|       4|         0|            3|                  0|        0|      0|\n",
      "|            ARDENNES|     457|         0|      0|       0|         0|            2|                  0|        0|      0|\n",
      "|              ARIEGE|     332|         0|      4|       1|         0|            1|                  0|        0|      0|\n",
      "|                AUBE|     431|         0|      1|       0|         0|            3|                  0|        0|      0|\n",
      "|                AUDE|     436|         0|      8|       1|         0|            0|                  0|        0|      0|\n",
      "|             AVEYRON|     286|         0|      7|       0|         0|            3|                  0|        0|      0|\n",
      "|    BOUCHES-DU-RHONE|     134|         9|     22|       1|         0|            9|                  0|        9|      0|\n",
      "|            CALVADOS|     621|         0|     11|       1|         0|            4|                  0|        1|      1|\n",
      "|              CANTAL|     255|         0|      1|       0|         0|            1|                  0|        0|      0|\n",
      "|            CHARENTE|     394|         1|      3|       1|         1|            3|                  0|        0|      0|\n",
      "|   CHARENTE-MARITIME|     469|         1|      8|       5|         2|            3|                  1|        1|      0|\n",
      "|                CHER|     290|         0|      1|       0|         0|            1|                  0|        0|      1|\n",
      "|             CORREZE|     285|         0|      2|       1|         0|            2|                  0|        0|      0|\n",
      "|           COTE-D'OR|     705|         0|      2|       0|         1|            2|                  0|        0|      0|\n",
      "+--------------------+--------+----------+-------+--------+----------+-------------+-------------------+---------+-------+\n",
      "only showing top 20 rows\n",
      "\n"
     ]
    }
   ],
   "source": [
    "magsDF.show()"
   ]
  },
  {
   "cell_type": "code",
   "execution_count": 9,
   "metadata": {},
   "outputs": [],
   "source": [
    "#google_sheets(file= \"mags_bio_departs\", data = magsDF)"
   ]
  },
  {
   "cell_type": "markdown",
   "metadata": {},
   "source": [
    "### IV - Surfaces"
   ]
  },
  {
   "cell_type": "code",
   "execution_count": 10,
   "metadata": {},
   "outputs": [],
   "source": [
    "df.createOrReplaceTempView(\"surface\")"
   ]
  },
  {
   "cell_type": "code",
   "execution_count": 11,
   "metadata": {},
   "outputs": [],
   "source": [
    "annee = [\"surface_2008\", \"surface_2009\", \"surface_2010\", \"surface_2011\", \"surface_2012\", \"surface_2013\", \n",
    "         \"surface_2014\", \"surface_2015\", \"surface_2016\", \"surface_2017\", \"surface_2018\", \"surface_2019\"]\n",
    "\n",
    "type_surface = [\"Surface_BIO\", \"Surface_C1\", \"Surface_C2\", \"Surface_C3\"]\n",
    "\n",
    "def queries(annees, surfaces):\n",
    "    list_df = []\n",
    "    for year in annees:\n",
    "        list_df.append(spark.sql(\"select departement, {}.Annee, {}.{}.* from surface\".format(year, year, surfaces)))\n",
    "        \n",
    "    return list_df    \n",
    "\n",
    "def append_dfs(df1,df2): \n",
    "    list1 = df1.columns \n",
    "    list2 = df2.columns \n",
    "    for col in list2: \n",
    "        if(col not in list1): \n",
    "            df1 = df1.withColumn(col, lit(None))\n",
    "            \n",
    "    for col in list1: \n",
    "        if(col not in list2): \n",
    "            df2 = df2.withColumn(col, lit(None)) \n",
    "            \n",
    "    return df1.unionByName(df2)\n",
    "\n",
    "def union_DF(annees, surfaces):\n",
    "    list_DF = queries(annees, surfaces)\n",
    "    df = list_DF[0]\n",
    "    for row in list_DF[1:]:\n",
    "        df = append_dfs(df, row)\n",
    "    return df"
   ]
  },
  {
   "cell_type": "markdown",
   "metadata": {},
   "source": [
    "#### 1 - Surfaces BIO"
   ]
  },
  {
   "cell_type": "code",
   "execution_count": 12,
   "metadata": {},
   "outputs": [],
   "source": [
    "surfaceBIO = union_DF(annee, \"Surface_BIO\")\n",
    "\n",
    "surfaceBIO = surfaceBIO.where(col(\"Annee\").isNotNull())\n",
    "surfaceBIO = surfaceBIO.fillna(0)"
   ]
  },
  {
   "cell_type": "code",
   "execution_count": 14,
   "metadata": {},
   "outputs": [],
   "source": [
    "#google_sheets(file= \"surface_bio_departs\", data = surfaceBIO)"
   ]
  },
  {
   "cell_type": "markdown",
   "metadata": {},
   "source": [
    "#### 2 - Surfaces C1"
   ]
  },
  {
   "cell_type": "code",
   "execution_count": 15,
   "metadata": {},
   "outputs": [],
   "source": [
    "surfaceC1 = union_DF(annee, \"Surface_C1\")\n",
    "\n",
    "surfaceC1 = surfaceC1.where(col(\"Annee\").isNotNull())\n",
    "surfaceC1 = surfaceC1.fillna(0)"
   ]
  },
  {
   "cell_type": "code",
   "execution_count": 16,
   "metadata": {},
   "outputs": [],
   "source": [
    "#google_sheets(file= \"surface_C1_departs\", data = surfaceC1)"
   ]
  },
  {
   "cell_type": "markdown",
   "metadata": {},
   "source": [
    "#### 3 - Surfaces C2"
   ]
  },
  {
   "cell_type": "code",
   "execution_count": 17,
   "metadata": {},
   "outputs": [],
   "source": [
    "surfaceC2 = union_DF(annee, \"Surface_C2\")\n",
    "\n",
    "surfaceC2 = surfaceC2.where(col(\"Annee\").isNotNull())\n",
    "surfaceC2 = surfaceC2.fillna(0)"
   ]
  },
  {
   "cell_type": "code",
   "execution_count": 18,
   "metadata": {},
   "outputs": [],
   "source": [
    "#google_sheets(file= \"surface_C2_departs\", data = surfaceC2)"
   ]
  },
  {
   "cell_type": "markdown",
   "metadata": {},
   "source": [
    "#### 4 - Surfaces C3"
   ]
  },
  {
   "cell_type": "code",
   "execution_count": 19,
   "metadata": {},
   "outputs": [],
   "source": [
    "surfaceC3 = union_DF(annee, \"Surface_C3\")\n",
    "\n",
    "surfaceC3 = surfaceC3.where(col(\"Annee\").isNotNull())\n",
    "surfaceC3 = surfaceC3.fillna(0)"
   ]
  },
  {
   "cell_type": "code",
   "execution_count": 20,
   "metadata": {},
   "outputs": [],
   "source": [
    "#google_sheets(file= \"surface_C3_departs\", data = surfaceC3)"
   ]
  },
  {
   "cell_type": "code",
   "execution_count": null,
   "metadata": {},
   "outputs": [],
   "source": []
  }
 ],
 "metadata": {
  "kernelspec": {
   "display_name": "Python 3",
   "language": "python",
   "name": "python3"
  },
  "language_info": {
   "codemirror_mode": {
    "name": "ipython",
    "version": 3
   },
   "file_extension": ".py",
   "mimetype": "text/x-python",
   "name": "python",
   "nbconvert_exporter": "python",
   "pygments_lexer": "ipython3",
   "version": "3.8.6"
  }
 },
 "nbformat": 4,
 "nbformat_minor": 4
}
